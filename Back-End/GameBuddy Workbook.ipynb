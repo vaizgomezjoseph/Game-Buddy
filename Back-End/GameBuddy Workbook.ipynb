{
 "cells": [
  {
   "cell_type": "code",
   "execution_count": null,
   "id": "4a2c0ff0",
   "metadata": {},
   "outputs": [],
   "source": [
    "from selenium import webdriver\n",
    "from selenium.webdriver.common.keys import Keys\n",
    "from selenium.webdriver.common.by import By\n",
    "from selenium.webdriver.support.ui import WebDriverWait\n",
    "from selenium.webdriver.support import expected_conditions as EC\n",
    "\n",
    "import time\n",
    "import os"
   ]
  },
  {
   "cell_type": "code",
   "execution_count": null,
   "id": "78d969ff",
   "metadata": {},
   "outputs": [],
   "source": [
    "PATH = \"/Users/joseph-vaiz-gomez/Desktop/chromedriver\"\n",
    "DOWNLOADS = \"/Users/joseph-vaiz-gomez/Documents/Equinox\"\n",
    "hyperlink = \"https://steamdb.info/app/1067770/\"\n",
    "\n",
    "options = webdriver.ChromeOptions()\n",
    "options.add_argument(\"--disable-blink-features=AutomationControlled\") # Enable Javascript\n",
    "prefs = {\"download.default_directory\" : DOWNLOADS}\n",
    "options.add_experimental_option(\"prefs\",prefs)"
   ]
  },
  {
   "cell_type": "code",
   "execution_count": null,
   "id": "5ce9a44a",
   "metadata": {},
   "outputs": [],
   "source": [
    "driver = webdriver.Chrome(options = options, executable_path = PATH)\n",
    "driver.get(hyperlink)\n",
    "driver.execute_script(\"window.scrollTo(100,document.body.scrollHeight/2)\")\n",
    "time.sleep(8)\n",
    "\n",
    "try:\n",
    "    download_button = driver.find_element_by_class_name(\"highcharts-exporting-group\")\n",
    "    download_button.click()\n",
    "    #print(download_button)\n",
    "    time.sleep(2)\n",
    "\n",
    "    csv_button = driver.find_element_by_class_name(\"highcharts-menu-item\")\n",
    "    csv_button.click()\n",
    "    #print(csv_button)\n",
    "    time.sleep(2)\n",
    "except:\n",
    "    driver.close()"
   ]
  },
  {
   "cell_type": "code",
   "execution_count": null,
   "id": "f3d6119f",
   "metadata": {},
   "outputs": [],
   "source": [
    "driver.close() # close the webpage"
   ]
  },
  {
   "cell_type": "code",
   "execution_count": null,
   "id": "589ffe99",
   "metadata": {},
   "outputs": [],
   "source": [
    "#download_list = os.listdir(\"/Users/joseph-vaiz-gomez/Documents/Equinox\")\n",
    "#csv_filename = [k for k in download_list if '.csv' in k]"
   ]
  },
  {
   "cell_type": "code",
   "execution_count": null,
   "id": "cde06fef",
   "metadata": {},
   "outputs": [],
   "source": []
  }
 ],
 "metadata": {
  "kernelspec": {
   "display_name": "Python 3",
   "language": "python",
   "name": "python3"
  },
  "language_info": {
   "codemirror_mode": {
    "name": "ipython",
    "version": 3
   },
   "file_extension": ".py",
   "mimetype": "text/x-python",
   "name": "python",
   "nbconvert_exporter": "python",
   "pygments_lexer": "ipython3",
   "version": "3.8.8"
  }
 },
 "nbformat": 4,
 "nbformat_minor": 5
}
